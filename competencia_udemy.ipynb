{
  "nbformat": 4,
  "nbformat_minor": 0,
  "metadata": {
    "colab": {
      "name": "Modelo udemy.ipynb",
      "provenance": [],
      "collapsed_sections": [],
      "include_colab_link": true
    },
    "kernelspec": {
      "name": "python3",
      "display_name": "Python 3"
    },
    "language_info": {
      "name": "python"
    }
  },
  "cells": [
    {
      "cell_type": "markdown",
      "metadata": {
        "id": "view-in-github",
        "colab_type": "text"
      },
      "source": [
        "<a href=\"https://colab.research.google.com/github/gustabart/dm/blob/main/competencia_udemy.ipynb\" target=\"_parent\"><img src=\"https://colab.research.google.com/assets/colab-badge.svg\" alt=\"Open In Colab\"/></a>"
      ]
    },
    {
      "cell_type": "code",
      "execution_count": null,
      "metadata": {
        "id": "jw8ogMDOpvKP"
      },
      "outputs": [],
      "source": [
        "import pandas as pd\n",
        "\n",
        "import sklearn as sk\n",
        "from sklearn import model_selection\n",
        "from sklearn import ensemble\n",
        "from sklearn import metrics"
      ]
    },
    {
      "cell_type": "markdown",
      "source": [
        "# Lectura de datos"
      ],
      "metadata": {
        "id": "20D-m6GPyefp"
      }
    },
    {
      "cell_type": "code",
      "source": [
        "df_entrenamiento = pd.read_excel('/content/udemy_entrenamiento.xlsx', index_col=\"id\")\n",
        "df_entrenamiento.head()"
      ],
      "metadata": {
        "id": "CtV0wOGsqJLC"
      },
      "execution_count": null,
      "outputs": []
    },
    {
      "cell_type": "code",
      "source": [
        "df_prueba = pd.read_excel('/content/udemy_prueba.xlsx', index_col=\"id\")\n",
        "df_prueba.head()"
      ],
      "metadata": {
        "id": "mFsXMBPUqTQl"
      },
      "execution_count": null,
      "outputs": []
    },
    {
      "cell_type": "markdown",
      "source": [
        "# Entendimiento (magia parte 1)"
      ],
      "metadata": {
        "id": "byV0dQi-yiEd"
      }
    },
    {
      "cell_type": "code",
      "source": [
        "df_entrenamiento['rating'].hist();"
      ],
      "metadata": {
        "colab": {
          "base_uri": "https://localhost:8080/",
          "height": 265
        },
        "id": "JxgyNvZMy2W8",
        "outputId": "522c243a-1fa0-4d3c-c59e-e51b8a42c3fb"
      },
      "execution_count": null,
      "outputs": [
        {
          "output_type": "display_data",
          "data": {
            "text/plain": [
              "<Figure size 432x288 with 1 Axes>"
            ],
            "image/png": "[encoded data removed]"
          },
          "metadata": {
            "needs_background": "light"
          }
        }
      ]
    },
    {
      "cell_type": "code",
      "source": [
        "df_entrenamiento['locale'].value_counts()"
      ],
      "metadata": {
        "colab": {
          "base_uri": "https://localhost:8080/"
        },
        "id": "ULDA7WfhjG5G",
        "outputId": "b98db5bb-55dc-44e7-e9ad-090c632f5ff0"
      },
      "execution_count": null,
      "outputs": [
        {
          "output_type": "execute_result",
          "data": {
            "text/plain": [
              "es_ES    6575\n",
              "es_LA    2381\n",
              "es_MX    1444\n",
              "es_CO     430\n",
              "es_VE     156\n",
              "es_CL     101\n",
              "Name: locale, dtype: int64"
            ]
          },
          "metadata": {},
          "execution_count": 15
        }
      ]
    },
    {
      "cell_type": "code",
      "source": [
        "df_entrenamiento.corr()"
      ],
      "metadata": {
        "colab": {
          "base_uri": "https://localhost:8080/",
          "height": 175
        },
        "id": "KFJ6E2aykFTx",
        "outputId": "9be4e0d4-100e-4caf-ab80-c1b2419b32b5"
      },
      "execution_count": null,
      "outputs": [
        {
          "output_type": "execute_result",
          "data": {
            "text/plain": [
              "                              is_practice_test_course    rating  \\\n",
              "is_practice_test_course                      1.000000 -0.067705   \n",
              "rating                                      -0.067705  1.000000   \n",
              "num_published_lectures                      -0.101295  0.102981   \n",
              "num_published_practice_tests                 0.820798 -0.042436   \n",
              "\n",
              "                              num_published_lectures  \\\n",
              "is_practice_test_course                    -0.101295   \n",
              "rating                                      0.102981   \n",
              "num_published_lectures                      1.000000   \n",
              "num_published_practice_tests               -0.071914   \n",
              "\n",
              "                              num_published_practice_tests  \n",
              "is_practice_test_course                           0.820798  \n",
              "rating                                           -0.042436  \n",
              "num_published_lectures                           -0.071914  \n",
              "num_published_practice_tests                      1.000000  "
            ],
            "text/html": [
              "\n",
              "  <div id=\"df-8289eebc-05d5-40e2-921b-5d737e0e9fec\">\n",
              "    <div class=\"colab-df-container\">\n",
              "      <div>\n",
              "<style scoped>\n",
              "    .dataframe tbody tr th:only-of-type {\n",
              "        vertical-align: middle;\n",
              "    }\n",
              "\n",
              "    .dataframe tbody tr th {\n",
              "        vertical-align: top;\n",
              "    }\n",
              "\n",
              "    .dataframe thead th {\n",
              "        text-align: right;\n",
              "    }\n",
              "</style>\n",
              "<table border=\"1\" class=\"dataframe\">\n",
              "  <thead>\n",
              "    <tr style=\"text-align: right;\">\n",
              "      <th></th>\n",
              "      <th>is_practice_test_course</th>\n",
              "      <th>rating</th>\n",
              "      <th>num_published_lectures</th>\n",
              "      <th>num_published_practice_tests</th>\n",
              "    </tr>\n",
              "  </thead>\n",
              "  <tbody>\n",
              "    <tr>\n",
              "      <th>is_practice_test_course</th>\n",
              "      <td>1.000000</td>\n",
              "      <td>-0.067705</td>\n",
              "      <td>-0.101295</td>\n",
              "      <td>0.820798</td>\n",
              "    </tr>\n",
              "    <tr>\n",
              "      <th>rating</th>\n",
              "      <td>-0.067705</td>\n",
              "      <td>1.000000</td>\n",
              "      <td>0.102981</td>\n",
              "      <td>-0.042436</td>\n",
              "    </tr>\n",
              "    <tr>\n",
              "      <th>num_published_lectures</th>\n",
              "      <td>-0.101295</td>\n",
              "      <td>0.102981</td>\n",
              "      <td>1.000000</td>\n",
              "      <td>-0.071914</td>\n",
              "    </tr>\n",
              "    <tr>\n",
              "      <th>num_published_practice_tests</th>\n",
              "      <td>0.820798</td>\n",
              "      <td>-0.042436</td>\n",
              "      <td>-0.071914</td>\n",
              "      <td>1.000000</td>\n",
              "    </tr>\n",
              "  </tbody>\n",
              "</table>\n",
              "</div>\n",
              "      <button class=\"colab-df-convert\" onclick=\"convertToInteractive('df-8289eebc-05d5-40e2-921b-5d737e0e9fec')\"\n",
              "              title=\"Convert this dataframe to an interactive table.\"\n",
              "              style=\"display:none;\">\n",
              "        \n",
              "  <svg xmlns=\"http://www.w3.org/2000/svg\" height=\"24px\"viewBox=\"0 0 24 24\"\n",
              "       width=\"24px\">\n",
              "    <path d=\"M0 0h24v24H0V0z\" fill=\"none\"/>\n",
              "    <path d=\"M18.56 5.44l.94 2.06.94-2.06 2.06-.94-2.06-.94-.94-2.06-.94 2.06-2.06.94zm-11 1L8.5 8.5l.94-2.06 2.06-.94-2.06-.94L8.5 2.5l-.94 2.06-2.06.94zm10 10l.94 2.06.94-2.06 2.06-.94-2.06-.94-.94-2.06-.94 2.06-2.06.94z\"/><path d=\"M17.41 7.96l-1.37-1.37c-.4-.4-.92-.59-1.43-.59-.52 0-1.04.2-1.43.59L10.3 9.45l-7.72 7.72c-.78.78-.78 2.05 0 2.83L4 21.41c.39.39.9.59 1.41.59.51 0 1.02-.2 1.41-.59l7.78-7.78 2.81-2.81c.8-.78.8-2.07 0-2.86zM5.41 20L4 18.59l7.72-7.72 1.47 1.35L5.41 20z\"/>\n",
              "  </svg>\n",
              "      </button>\n",
              "      \n",
              "  <style>\n",
              "    .colab-df-container {\n",
              "      display:flex;\n",
              "      flex-wrap:wrap;\n",
              "      gap: 12px;\n",
              "    }\n",
              "\n",
              "    .colab-df-convert {\n",
              "      background-color: #E8F0FE;\n",
              "      border: none;\n",
              "      border-radius: 50%;\n",
              "      cursor: pointer;\n",
              "      display: none;\n",
              "      fill: #1967D2;\n",
              "      height: 32px;\n",
              "      padding: 0 0 0 0;\n",
              "      width: 32px;\n",
              "    }\n",
              "\n",
              "    .colab-df-convert:hover {\n",
              "      background-color: #E2EBFA;\n",
              "      box-shadow: 0px 1px 2px rgba(60, 64, 67, 0.3), 0px 1px 3px 1px rgba(60, 64, 67, 0.15);\n",
              "      fill: #174EA6;\n",
              "    }\n",
              "\n",
              "    [theme=dark] .colab-df-convert {\n",
              "      background-color: #3B4455;\n",
              "      fill: #D2E3FC;\n",
              "    }\n",
              "\n",
              "    [theme=dark] .colab-df-convert:hover {\n",
              "      background-color: #434B5C;\n",
              "      box-shadow: 0px 1px 3px 1px rgba(0, 0, 0, 0.15);\n",
              "      filter: drop-shadow(0px 1px 2px rgba(0, 0, 0, 0.3));\n",
              "      fill: #FFFFFF;\n",
              "    }\n",
              "  </style>\n",
              "\n",
              "      <script>\n",
              "        const buttonEl =\n",
              "          document.querySelector('#df-8289eebc-05d5-40e2-921b-5d737e0e9fec button.colab-df-convert');\n",
              "        buttonEl.style.display =\n",
              "          google.colab.kernel.accessAllowed ? 'block' : 'none';\n",
              "\n",
              "        async function convertToInteractive(key) {\n",
              "          const element = document.querySelector('#df-8289eebc-05d5-40e2-921b-5d737e0e9fec');\n",
              "          const dataTable =\n",
              "            await google.colab.kernel.invokeFunction('convertToInteractive',\n",
              "                                                     [key], {});\n",
              "          if (!dataTable) return;\n",
              "\n",
              "          const docLinkHtml = 'Like what you see? Visit the ' +\n",
              "            '<a target=\"_blank\" href=https://colab.research.google.com/notebooks/data_table.ipynb>data table notebook</a>'\n",
              "            + ' to learn more about interactive tables.';\n",
              "          element.innerHTML = '';\n",
              "          dataTable['output_type'] = 'display_data';\n",
              "          await google.colab.output.renderOutput(dataTable, element);\n",
              "          const docLink = document.createElement('div');\n",
              "          docLink.innerHTML = docLinkHtml;\n",
              "          element.appendChild(docLink);\n",
              "        }\n",
              "      </script>\n",
              "    </div>\n",
              "  </div>\n",
              "  "
            ]
          },
          "metadata": {},
          "execution_count": 16
        }
      ]
    },
    {
      "cell_type": "code",
      "source": [
        "df_entrenamiento.info()"
      ],
      "metadata": {
        "colab": {
          "base_uri": "https://localhost:8080/"
        },
        "id": "u8o3Uh1GkSel",
        "outputId": "48bf72cb-7943-4c43-ae6f-f4411fbb199e"
      },
      "execution_count": null,
      "outputs": [
        {
          "output_type": "stream",
          "name": "stdout",
          "text": [
            "<class 'pandas.core.frame.DataFrame'>\n",
            "Int64Index: 11087 entries, 1 to 11087\n",
            "Data columns (total 20 columns):\n",
            " #   Column                        Non-Null Count  Dtype  \n",
            "---  ------                        --------------  -----  \n",
            " 0   title                         11087 non-null  object \n",
            " 1   headline                      11086 non-null  object \n",
            " 2   is_practice_test_course       11087 non-null  bool   \n",
            " 3   bestseller                    11087 non-null  object \n",
            " 4   captions                      9142 non-null   object \n",
            " 5   rating                        11087 non-null  float64\n",
            " 6   num_published_lectures        11087 non-null  int64  \n",
            " 7   num_published_practice_tests  11087 non-null  int64  \n",
            " 8   locale                        11087 non-null  object \n",
            " 9   created_date                  11087 non-null  object \n",
            " 10  instructional_level_simple    11082 non-null  object \n",
            " 11  published_date                11087 non-null  object \n",
            " 12  last_update_date              9805 non-null   object \n",
            " 13  content_info_short            11087 non-null  object \n",
            " 14  instructors                   11086 non-null  object \n",
            " 15  category                      11087 non-null  object \n",
            " 16  subcategory                   11068 non-null  object \n",
            " 17  objectives                    11086 non-null  object \n",
            " 18  list_price                    11087 non-null  object \n",
            " 19  discount_price                10103 non-null  object \n",
            "dtypes: bool(1), float64(1), int64(2), object(16)\n",
            "memory usage: 1.7+ MB\n"
          ]
        }
      ]
    },
    {
      "cell_type": "markdown",
      "source": [
        "# Limpieza (magia parte 2)"
      ],
      "metadata": {
        "id": "zjaTnfxkyvo8"
      }
    },
    {
      "cell_type": "code",
      "source": [
        "columnas = ['is_practice_test_course', 'rating', 'num_published_lectures', 'num_published_practice_tests', 'bestseller']\n",
        "df_entrenamiento = df_entrenamiento[columnas]\n",
        "df_prueba = df_prueba[columnas]"
      ],
      "metadata": {
        "id": "VmknCWkQsmUR"
      },
      "execution_count": null,
      "outputs": []
    },
    {
      "cell_type": "markdown",
      "source": [
        "# Territorio de Aprendizaje Automático\n",
        "Se mira y no se toca"
      ],
      "metadata": {
        "id": "i2jRJmQ-tD4Z"
      }
    },
    {
      "cell_type": "code",
      "source": [
        "# Datos para probar\n",
        "X = df_entrenamiento[df_entrenamiento.columns.drop('bestseller')]\n",
        "y = df_entrenamiento['bestseller']\n",
        "\n",
        "# Partimos en entrenamiento y prueba \n",
        "X_train, X_test, y_train, y_test = sk.model_selection.train_test_split(X, y, test_size=0.2, random_state=42, shuffle=True)\n",
        "\n",
        "# Creamos el objeto del modelo\n",
        "clf = sk.ensemble.RandomForestClassifier(n_estimators=3000, criterion='gini', max_depth=5, n_jobs=-1, random_state=42)\n",
        "\n",
        "# Entrenamos el modelo\n",
        "clf.fit(X_train, y_train)\n",
        "\n",
        "# Predecimos\n",
        "y_pred = clf.predict(X_test)\n",
        "\n",
        "# Medimos la performance de la predicción\n",
        "sk.metrics.accuracy_score(y_test, y_pred)"
      ],
      "metadata": {
        "colab": {
          "base_uri": "https://localhost:8080/"
        },
        "id": "PoAhfAjlr-rp",
        "outputId": "9d0f02fb-a44b-412f-82f3-331e7e135c49"
      },
      "execution_count": null,
      "outputs": [
        {
          "output_type": "execute_result",
          "data": {
            "text/plain": [
              "0.8124436429215509"
            ]
          },
          "metadata": {},
          "execution_count": 23
        }
      ]
    },
    {
      "cell_type": "code",
      "source": [
        "# Datos a predecir \n",
        "X_prueba = df_prueba[df_prueba.columns.drop('bestseller')]\n",
        "\n",
        "# Entrenamos el modelo con todos los datos\n",
        "clf.fit(X, y)\n",
        "\n",
        "# Predecimos\n",
        "df_prueba['bestseller'] = clf.predict(X_prueba)\n",
        "\n",
        "# Grabamos\n",
        "df_prueba['bestseller'].to_csv('/content/solucion.csv')"
      ],
      "metadata": {
        "id": "XiLRQP0qt9og"
      },
      "execution_count": null,
      "outputs": []
    }
  ]
}