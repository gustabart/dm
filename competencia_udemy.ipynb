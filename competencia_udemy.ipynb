{
  "cells": [
    {
      "cell_type": "markdown",
      "metadata": {
        "colab_type": "text",
        "id": "view-in-github"
      },
      "source": [
        "<a href=\"https://colab.research.google.com/github/gustabart/dm/blob/main/competencia_udemy.ipynb\" target=\"_parent\"><img src=\"https://colab.research.google.com/assets/colab-badge.svg\" alt=\"Open In Colab\"/></a>"
      ]
    },
    {
      "cell_type": "code",
      "execution_count": 59,
      "metadata": {
        "id": "jw8ogMDOpvKP"
      },
      "outputs": [],
      "source": [
        "import pandas as pd\n",
        "\n",
        "import sklearn as sk\n",
        "from sklearn import model_selection\n",
        "from sklearn import ensemble\n",
        "from sklearn import metrics"
      ]
    },
    {
      "cell_type": "markdown",
      "metadata": {
        "id": "20D-m6GPyefp"
      },
      "source": [
        "# Lectura de datos"
      ]
    },
    {
      "cell_type": "code",
      "execution_count": null,
      "metadata": {
        "id": "CtV0wOGsqJLC"
      },
      "outputs": [],
      "source": [
        "df_entrenamiento = pd.read_excel('datasets/udemy_entrenamiento.xlsx', index_col=\"id\")\n",
        "df_entrenamiento.head()"
      ]
    },
    {
      "cell_type": "code",
      "execution_count": null,
      "metadata": {
        "id": "mFsXMBPUqTQl"
      },
      "outputs": [],
      "source": [
        "df_prueba = pd.read_excel('datasets/udemy_prueba.xlsx', index_col=\"id\")\n",
        "df_prueba.head()"
      ]
    },
    {
      "cell_type": "markdown",
      "metadata": {
        "id": "byV0dQi-yiEd"
      },
      "source": [
        "# Entendimiento (magia parte 1)"
      ]
    },
    {
      "cell_type": "code",
      "execution_count": null,
      "metadata": {
        "colab": {
          "base_uri": "https://localhost:8080/",
          "height": 265
        },
        "id": "JxgyNvZMy2W8",
        "outputId": "522c243a-1fa0-4d3c-c59e-e51b8a42c3fb"
      },
      "outputs": [],
      "source": [
        "df_entrenamiento['rating'].hist();"
      ]
    },
    {
      "cell_type": "code",
      "execution_count": null,
      "metadata": {
        "colab": {
          "base_uri": "https://localhost:8080/"
        },
        "id": "ULDA7WfhjG5G",
        "outputId": "b98db5bb-55dc-44e7-e9ad-090c632f5ff0"
      },
      "outputs": [],
      "source": [
        "df_entrenamiento['locale'].value_counts()"
      ]
    },
    {
      "cell_type": "code",
      "execution_count": null,
      "metadata": {
        "colab": {
          "base_uri": "https://localhost:8080/",
          "height": 175
        },
        "id": "KFJ6E2aykFTx",
        "outputId": "9be4e0d4-100e-4caf-ab80-c1b2419b32b5"
      },
      "outputs": [],
      "source": [
        "df_entrenamiento.corr()"
      ]
    },
    {
      "cell_type": "code",
      "execution_count": null,
      "metadata": {
        "colab": {
          "base_uri": "https://localhost:8080/"
        },
        "id": "u8o3Uh1GkSel",
        "outputId": "48bf72cb-7943-4c43-ae6f-f4411fbb199e"
      },
      "outputs": [],
      "source": [
        "df_entrenamiento.info()"
      ]
    },
    {
      "cell_type": "markdown",
      "metadata": {
        "id": "zjaTnfxkyvo8"
      },
      "source": [
        "# Limpieza (magia parte 2)"
      ]
    },
    {
      "cell_type": "code",
      "execution_count": 62,
      "metadata": {
        "id": "VmknCWkQsmUR"
      },
      "outputs": [],
      "source": [
        "columnas = ['is_practice_test_course', 'rating', 'num_published_lectures', 'num_published_practice_tests', 'bestseller']\n",
        "df_entrenamiento = df_entrenamiento[columnas]\n",
        "df_prueba = df_prueba[columnas]"
      ]
    },
    {
      "cell_type": "code",
      "execution_count": null,
      "metadata": {},
      "outputs": [],
      "source": [
        "# Tips:\n",
        "# select_dtypes (Para hacer la selección de columnas mas elegante)\n",
        "# map, replace, para reemplazar datos\n",
        "# loc\n",
        "# df_entrenamiento.loc[df_entrenamiento['bestseller'] == \"yes\", 'bestseller'] = \"si\"\n",
        "# df['bestseller'].unique()\n",
        "# df['bestseller'].value_counts() \n",
        "# usar dummies para transformar categorías"
      ]
    },
    {
      "cell_type": "code",
      "execution_count": 64,
      "metadata": {},
      "outputs": [
        {
          "data": {
            "text/plain": [
              "no    8887\n",
              "si    2200\n",
              "Name: bestseller, dtype: int64"
            ]
          },
          "execution_count": 64,
          "metadata": {},
          "output_type": "execute_result"
        }
      ],
      "source": [
        "# Reemplaza los no por los yes\n",
        "df_entrenamiento[\"bestseller\"] = df_entrenamiento[\"bestseller\"].map({\"no\":\"no\", \"yes\":\"si\", \"si\":\"si\"})\n",
        "df_entrenamiento[\"bestseller\"].value_counts()"
      ]
    },
    {
      "cell_type": "code",
      "execution_count": null,
      "metadata": {},
      "outputs": [],
      "source": [
        "# Limpiar $ de los precios"
      ]
    },
    {
      "cell_type": "code",
      "execution_count": null,
      "metadata": {},
      "outputs": [],
      "source": [
        "# Hago los cambios en df_prueba también\n",
        "df_entrenamiento[\"bestseller\"] = df_entrenamiento[\"bestseller\"].map({\"no\":\"no\", \"yes\":\"si\", \"si\":\"si\"})\n",
        "df_prueba[\"bestseller\"].value_counts()"
      ]
    },
    {
      "cell_type": "markdown",
      "metadata": {
        "id": "i2jRJmQ-tD4Z"
      },
      "source": [
        "# Territorio de Aprendizaje Automático\n",
        "Se mira y no se toca"
      ]
    },
    {
      "cell_type": "code",
      "execution_count": null,
      "metadata": {
        "colab": {
          "base_uri": "https://localhost:8080/"
        },
        "id": "PoAhfAjlr-rp",
        "outputId": "9d0f02fb-a44b-412f-82f3-331e7e135c49"
      },
      "outputs": [],
      "source": [
        "# Datos para probar\n",
        "X = df_entrenamiento[df_entrenamiento.columns.drop('bestseller')]\n",
        "y = df_entrenamiento['bestseller']\n",
        "\n",
        "# Partimos en entrenamiento y prueba \n",
        "X_train, X_test, y_train, y_test = sk.model_selection.train_test_split(X, y, test_size=0.2, random_state=42, shuffle=True)\n",
        "\n",
        "# Creamos el objeto del modelo\n",
        "clf = sk.ensemble.RandomForestClassifier(n_estimators=3000, criterion='gini', max_depth=5, n_jobs=-1, random_state=42)\n",
        "\n",
        "# Entrenamos el modelo\n",
        "clf.fit(X_train, y_train)\n",
        "\n",
        "# Predecimos\n",
        "y_pred = clf.predict(X_test)\n",
        "\n",
        "# Medimos la performance de la predicción\n",
        "sk.metrics.accuracy_score(y_test, y_pred)"
      ]
    },
    {
      "cell_type": "code",
      "execution_count": null,
      "metadata": {
        "id": "XiLRQP0qt9og"
      },
      "outputs": [],
      "source": [
        "# Datos a predecir \n",
        "X_prueba = df_prueba[df_prueba.columns.drop('bestseller')]\n",
        "\n",
        "# Entrenamos el modelo con todos los datos\n",
        "clf.fit(X, y)\n",
        "\n",
        "# Predecimos\n",
        "df_prueba['bestseller'] = clf.predict(X_prueba)\n",
        "\n",
        "# Grabamos\n",
        "df_prueba['bestseller'].to_csv('datasets/solucion.csv')"
      ]
    }
  ],
  "metadata": {
    "colab": {
      "collapsed_sections": [],
      "include_colab_link": true,
      "name": "Modelo udemy.ipynb",
      "provenance": []
    },
    "kernelspec": {
      "display_name": "Python 3",
      "name": "python3"
    },
    "language_info": {
      "codemirror_mode": {
        "name": "ipython",
        "version": 3
      },
      "file_extension": ".py",
      "mimetype": "text/x-python",
      "name": "python",
      "nbconvert_exporter": "python",
      "pygments_lexer": "ipython3",
      "version": "3.8.10"
    }
  },
  "nbformat": 4,
  "nbformat_minor": 0
}
