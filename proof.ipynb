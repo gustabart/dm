{
 "cells": [
  {
   "cell_type": "code",
   "execution_count": null,
   "metadata": {},
   "outputs": [],
   "source": [
    "import pandas as pd\n",
    "\n",
    "import sklearn as sk\n",
    "from sklearn import model_selection\n",
    "from sklearn import ensemble\n",
    "from sklearn import metrics\n",
    "\n",
    "import numpy as np"
   ]
  },
  {
   "cell_type": "code",
   "execution_count": null,
   "metadata": {},
   "outputs": [],
   "source": [
    "dft_input = pd.read_excel('datasets/udemy_entrenamiento.xlsx', index_col=\"id\")\n",
    "dfp_input = pd.read_excel('datasets/udemy_prueba.xlsx', index_col=\"id\")\n"
   ]
  },
  {
   "cell_type": "code",
   "execution_count": null,
   "metadata": {},
   "outputs": [],
   "source": [
    "dft_input.dtypes"
   ]
  },
  {
   "cell_type": "markdown",
   "metadata": {},
   "source": [
    "## Forma de Agregar columnas con condiciones"
   ]
  },
  {
   "cell_type": "code",
   "execution_count": null,
   "metadata": {},
   "outputs": [],
   "source": [
    "\n",
    "fila1 = [True, '10 Preguntas']\n",
    "fila2 = [False, '20 Horas']\n",
    "\n",
    "rows = [fila1, fila2] # Lista de listas\n",
    "df = pd.DataFrame(rows, columns=['is_practice_test_course', 'content_info_short'])\n",
    "df"
   ]
  },
  {
   "cell_type": "code",
   "execution_count": null,
   "metadata": {},
   "outputs": [],
   "source": [
    "df.dtypes"
   ]
  },
  {
   "cell_type": "code",
   "execution_count": null,
   "metadata": {},
   "outputs": [],
   "source": [
    "# El split me da un pandas Series. Cada elemento es una list con dos elementos\n",
    "# El expand = true me da un Dataframe donde cada columna es un elemento de la separación que hace el split\n",
    "df['content_info_short'].str.split(expand=True)"
   ]
  },
  {
   "cell_type": "code",
   "execution_count": null,
   "metadata": {},
   "outputs": [],
   "source": [
    "content = df['content_info_short'].str.split(expand=True)[0]\n",
    "df['horas'] = np.where((df['is_practice_test_course']==True), content, 0)\n",
    "df\n"
   ]
  },
  {
   "cell_type": "code",
   "execution_count": null,
   "metadata": {},
   "outputs": [],
   "source": [
    "df['preguntas'] = np.where((df['is_practice_test_course']==False), content, 0)\n",
    "df\n",
    "\n",
    "\n",
    "#df.loc[0,'is_practice_test_course']"
   ]
  },
  {
   "cell_type": "code",
   "execution_count": null,
   "metadata": {},
   "outputs": [],
   "source": [
    "df = df.drop('content_info_short', axis=1)\n",
    "df"
   ]
  }
 ],
 "metadata": {
  "interpreter": {
   "hash": "95c726394caadea47accd08e8f9dbda8f76dcbc0d863399dbfc7bdb6b9dd49f3"
  },
  "kernelspec": {
   "display_name": "Python 3.8.10 ('myenv': venv)",
   "language": "python",
   "name": "python3"
  },
  "language_info": {
   "codemirror_mode": {
    "name": "ipython",
    "version": 3
   },
   "file_extension": ".py",
   "mimetype": "text/x-python",
   "name": "python",
   "nbconvert_exporter": "python",
   "pygments_lexer": "ipython3",
   "version": "3.8.10"
  },
  "orig_nbformat": 4
 },
 "nbformat": 4,
 "nbformat_minor": 2
}
