{
  "cells": [
    {
      "cell_type": "markdown",
      "metadata": {
        "colab_type": "text",
        "id": "view-in-github"
      },
      "source": [
        "<a href=\"https://colab.research.google.com/github/gustabart/dm/blob/main/competencia_udemy.ipynb\" target=\"_parent\"><img src=\"https://colab.research.google.com/assets/colab-badge.svg\" alt=\"Open In Colab\"/></a>"
      ]
    },
    {
      "cell_type": "code",
      "execution_count": null,
      "metadata": {
        "id": "jw8ogMDOpvKP"
      },
      "outputs": [],
      "source": [
        "import pandas as pd\n",
        "\n",
        "import sklearn as sk\n",
        "from sklearn import model_selection\n",
        "from sklearn import ensemble\n",
        "from sklearn import metrics\n",
        "import numpy as np"
      ]
    },
    {
      "cell_type": "code",
      "execution_count": null,
      "metadata": {
        "id": "CtV0wOGsqJLC"
      },
      "outputs": [],
      "source": [
        "# Cargamos en memoria los datasets de entrenamiento y prueba\n",
        "dft_input = pd.read_excel('datasets/udemy_entrenamiento.xlsx', index_col=\"id\")\n",
        "dfp_input = pd.read_excel('datasets/udemy_prueba.xlsx', index_col=\"id\")"
      ]
    },
    {
      "cell_type": "code",
      "execution_count": null,
      "metadata": {},
      "outputs": [],
      "source": [
        "# Unimos los dataframes en df_unificado.\n",
        "df_unificado = pd.concat([dft_input, dfp_input], axis=0) # Axis 0 suma filas\n",
        "# A partid de ahora todas las operaciones de limpieza la hacemos sobre df_unificado."
      ]
    },
    {
      "cell_type": "markdown",
      "metadata": {
        "id": "byV0dQi-yiEd"
      },
      "source": [
        "## Entendimiento (magia parte 1)"
      ]
    },
    {
      "cell_type": "code",
      "execution_count": null,
      "metadata": {
        "colab": {
          "base_uri": "https://localhost:8080/",
          "height": 265
        },
        "id": "JxgyNvZMy2W8",
        "outputId": "522c243a-1fa0-4d3c-c59e-e51b8a42c3fb"
      },
      "outputs": [],
      "source": [
        "df_unificado['rating'].hist()"
      ]
    },
    {
      "cell_type": "code",
      "execution_count": null,
      "metadata": {
        "colab": {
          "base_uri": "https://localhost:8080/"
        },
        "id": "ULDA7WfhjG5G",
        "outputId": "b98db5bb-55dc-44e7-e9ad-090c632f5ff0"
      },
      "outputs": [],
      "source": [
        "df_unificado['locale'].value_counts()"
      ]
    },
    {
      "cell_type": "code",
      "execution_count": null,
      "metadata": {},
      "outputs": [],
      "source": [
        "df_unificado['category'].value_counts()"
      ]
    },
    {
      "cell_type": "code",
      "execution_count": null,
      "metadata": {
        "colab": {
          "base_uri": "https://localhost:8080/",
          "height": 175
        },
        "id": "KFJ6E2aykFTx",
        "outputId": "9be4e0d4-100e-4caf-ab80-c1b2419b32b5"
      },
      "outputs": [],
      "source": [
        "df_unificado.corr()"
      ]
    },
    {
      "cell_type": "code",
      "execution_count": null,
      "metadata": {
        "colab": {
          "base_uri": "https://localhost:8080/"
        },
        "id": "u8o3Uh1GkSel",
        "outputId": "48bf72cb-7943-4c43-ae6f-f4411fbb199e"
      },
      "outputs": [],
      "source": [
        "df_unificado.info()"
      ]
    },
    {
      "cell_type": "code",
      "execution_count": null,
      "metadata": {},
      "outputs": [],
      "source": [
        "df_unificado[\"content_info_short\"].value_counts()"
      ]
    },
    {
      "cell_type": "code",
      "execution_count": null,
      "metadata": {},
      "outputs": [],
      "source": [
        "df_unificado.dtypes"
      ]
    },
    {
      "cell_type": "code",
      "execution_count": null,
      "metadata": {},
      "outputs": [],
      "source": [
        "df_unificado.shape"
      ]
    },
    {
      "cell_type": "code",
      "execution_count": null,
      "metadata": {},
      "outputs": [],
      "source": [
        "df_unificado.head()"
      ]
    },
    {
      "cell_type": "code",
      "execution_count": null,
      "metadata": {},
      "outputs": [],
      "source": [
        "df_unificado[\"instructional_level_simple\"].unique()"
      ]
    },
    {
      "cell_type": "markdown",
      "metadata": {
        "id": "zjaTnfxkyvo8"
      },
      "source": [
        "## Limpieza (magia parte 2)"
      ]
    },
    {
      "cell_type": "code",
      "execution_count": null,
      "metadata": {},
      "outputs": [],
      "source": [
        "# Reemplaza los yes por si\n",
        "df_unificado[\"bestseller\"] = df_unificado[\"bestseller\"].str.replace(\"yes\", \"si\")"
      ]
    },
    {
      "cell_type": "code",
      "execution_count": null,
      "metadata": {},
      "outputs": [],
      "source": [
        "# Convierte a float la lista de precios y el precio con descuento\n",
        "df_unificado[\"list_price\"] = df_unificado[\"list_price\"].str.replace( \"$\", \"\", regex=False).astype(\"float32\")\n",
        "df_unificado[\"discount_price\"] = df_unificado[\"discount_price\"].str.replace(\"$\", \"\", regex=False).astype(\"float32\")"
      ]
    },
    {
      "cell_type": "code",
      "execution_count": null,
      "metadata": {},
      "outputs": [],
      "source": [
        "df_unificado.dtypes"
      ]
    },
    {
      "cell_type": "code",
      "execution_count": null,
      "metadata": {},
      "outputs": [],
      "source": [
        "# Testeo que no haya filas con is_practice_test_course y horas\n",
        "df_unificado[(df_unificado[\"is_practice_test_course\"] == True) & (df_unificado[\"content_info_short\"].str.contains(\"horas\"))]"
      ]
    },
    {
      "cell_type": "code",
      "execution_count": null,
      "metadata": {},
      "outputs": [],
      "source": [
        "# Testeo que no haya filas con is_practice_test_course en False y preguntas\n",
        "df_unificado[(df_unificado[\"is_practice_test_course\"] == False) & (df_unificado[\"content_info_short\"].str.contains(\"preguntas\"))]"
      ]
    },
    {
      "cell_type": "code",
      "execution_count": null,
      "metadata": {},
      "outputs": [],
      "source": [
        "# Me queda con la parte numérica de content_info_short (pueden ser horas o preguntas dependiendo de is_practice_test_course) \n",
        "content = df_unificado['content_info_short'].str.split(expand=True)[0]\n",
        "content = content.str.replace( \",\", \".\", regex=False).astype(\"float32\")"
      ]
    },
    {
      "cell_type": "code",
      "execution_count": null,
      "metadata": {},
      "outputs": [],
      "source": [
        "# Creo la columna preguntas (ponga la cantidad en caso de practice_test_course, 0 en caso contratio)\n",
        "df_unificado['preguntas'] = np.where((df_unificado['is_practice_test_course']==True), content, 0)"
      ]
    },
    {
      "cell_type": "code",
      "execution_count": null,
      "metadata": {},
      "outputs": [],
      "source": [
        "# Creo la columna horas (ponga la cantidad en caso de practice_test_course sea False, 0 en caso contratio)\n",
        "df_unificado['horas'] = np.where((df_unificado['is_practice_test_course']==False), content, 0)"
      ]
    },
    {
      "cell_type": "code",
      "execution_count": null,
      "metadata": {},
      "outputs": [],
      "source": [
        "# Crea la columna has_discount indicando si el curso tiene o no precio descontado \n",
        "df_unificado[\"has_discount\"] = np.where((~df_unificado['discount_price'].isna()), True, False)"
      ]
    },
    {
      "cell_type": "code",
      "execution_count": null,
      "metadata": {},
      "outputs": [],
      "source": [
        "# Cuando el precio con descuento es null le imputamos el precio de lista\n",
        "df_unificado['discount_price'] = df_unificado['discount_price'].fillna(df_unificado['list_price'])"
      ]
    },
    {
      "cell_type": "markdown",
      "metadata": {},
      "source": [
        "### Creación de columnas dummies"
      ]
    },
    {
      "cell_type": "code",
      "execution_count": null,
      "metadata": {},
      "outputs": [],
      "source": [
        "# Creo dummies para instructional_level_simple\n",
        "df_unificado = pd.concat([df_unificado, pd.get_dummies(df_unificado[\"instructional_level_simple\"], prefix='nivel')], axis=1)"
      ]
    },
    {
      "cell_type": "code",
      "execution_count": null,
      "metadata": {},
      "outputs": [],
      "source": [
        "# Creo dummies para locale\n",
        "df_unificado = pd.concat([df_unificado, pd.get_dummies(df_unificado[\"locale\"], prefix='locale')], axis=1)"
      ]
    },
    {
      "cell_type": "code",
      "execution_count": null,
      "metadata": {},
      "outputs": [],
      "source": [
        "# Creo dummies para category\n",
        "df_unificado = pd.concat([df_unificado, pd.get_dummies(df_unificado[\"category\"], prefix='category')], axis=1)"
      ]
    },
    {
      "cell_type": "markdown",
      "metadata": {},
      "source": [
        "### FIN Creación de columnas dummies"
      ]
    },
    {
      "cell_type": "code",
      "execution_count": 259,
      "metadata": {},
      "outputs": [],
      "source": [
        "# Nos quedamos con las columnas numéricas, booleanas y con 'bestseller'\n",
        "df_unificado = pd.concat([df_unificado.select_dtypes(include=['bool', np.number]), df_unificado[\"bestseller\"]], axis=1)"
      ]
    },
    {
      "cell_type": "code",
      "execution_count": 260,
      "metadata": {},
      "outputs": [],
      "source": [
        "# Separa el df_unificado en entrenamiento y prueba\n",
        "df_entrenamiento = df_unificado[(~df_unificado[\"bestseller\"].isna())]\n",
        "df_prueba = df_unificado[(df_unificado[\"bestseller\"].isna())]"
      ]
    },
    {
      "cell_type": "markdown",
      "metadata": {},
      "source": [
        "## Testeo que el dataframe haya quedado OK, antes de correrle el modelo."
      ]
    },
    {
      "cell_type": "code",
      "execution_count": 261,
      "metadata": {},
      "outputs": [
        {
          "data": {
            "text/plain": [
              "Index(['is_practice_test_course', 'rating', 'num_published_lectures',\n",
              "       'num_published_practice_tests', 'list_price', 'discount_price',\n",
              "       'preguntas', 'horas', 'has_discount', 'nivel_Experto',\n",
              "       'nivel_Intermedio', 'nivel_Principiante', 'nivel_Todos los niveles',\n",
              "       'locale_es_CL', 'locale_es_CO', 'locale_es_ES', 'locale_es_LA',\n",
              "       'locale_es_MX', 'locale_es_VE', 'bestseller'],\n",
              "      dtype='object')"
            ]
          },
          "execution_count": 261,
          "metadata": {},
          "output_type": "execute_result"
        }
      ],
      "source": [
        "df_entrenamiento.columns"
      ]
    },
    {
      "cell_type": "code",
      "execution_count": null,
      "metadata": {},
      "outputs": [],
      "source": [
        "df_entrenamiento.dtypes"
      ]
    },
    {
      "cell_type": "code",
      "execution_count": null,
      "metadata": {},
      "outputs": [],
      "source": [
        "# entrenamiento = df_entrenamiento[['is_practice_test_course','rating', 'num_published_lectures', 'num_published_practice_tests', 'list_price', 'discount_price', 'preguntas', 'horas', 'bestseller']]"
      ]
    },
    {
      "cell_type": "code",
      "execution_count": null,
      "metadata": {},
      "outputs": [],
      "source": [
        "# Me fijo que no hayan quedado conlumnas con valores NaN\n",
        "df_entrenamiento.isna().sum()"
      ]
    },
    {
      "cell_type": "code",
      "execution_count": null,
      "metadata": {},
      "outputs": [],
      "source": [
        "df_entrenamiento.head(5)"
      ]
    },
    {
      "cell_type": "markdown",
      "metadata": {
        "id": "i2jRJmQ-tD4Z"
      },
      "source": [
        "# Territorio de Aprendizaje Automático\n",
        "Se mira y no se toca"
      ]
    },
    {
      "cell_type": "code",
      "execution_count": 263,
      "metadata": {
        "colab": {
          "base_uri": "https://localhost:8080/"
        },
        "id": "PoAhfAjlr-rp",
        "outputId": "9d0f02fb-a44b-412f-82f3-331e7e135c49"
      },
      "outputs": [
        {
          "data": {
            "text/plain": [
              "0.8155996393146979"
            ]
          },
          "execution_count": 263,
          "metadata": {},
          "output_type": "execute_result"
        }
      ],
      "source": [
        "# Datos para probar\n",
        "X = df_entrenamiento[df_entrenamiento.columns.drop('bestseller')]\n",
        "y = df_entrenamiento['bestseller']\n",
        "\n",
        "# Partimos en entrenamiento y prueba \n",
        "X_train, X_test, y_train, y_test = sk.model_selection.train_test_split(X, y, test_size=0.2, random_state=42, shuffle=True)\n",
        "\n",
        "# Creamos el objeto del modelo\n",
        "clf = sk.ensemble.RandomForestClassifier(n_estimators=3000, criterion='gini', max_depth=5, n_jobs=-1, random_state=42)\n",
        "\n",
        "# Entrenamos el modelo\n",
        "clf.fit(X_train, y_train)\n",
        "\n",
        "# Predecimos\n",
        "y_pred = clf.predict(X_test)\n",
        "\n",
        "# Medimos la performance de la predicción\n",
        "sk.metrics.accuracy_score(y_test, y_pred)"
      ]
    },
    {
      "cell_type": "code",
      "execution_count": 264,
      "metadata": {
        "id": "XiLRQP0qt9og"
      },
      "outputs": [
        {
          "name": "stderr",
          "output_type": "stream",
          "text": [
            "/tmp/ipykernel_398593/3853036098.py:8: SettingWithCopyWarning: \n",
            "A value is trying to be set on a copy of a slice from a DataFrame.\n",
            "Try using .loc[row_indexer,col_indexer] = value instead\n",
            "\n",
            "See the caveats in the documentation: https://pandas.pydata.org/pandas-docs/stable/user_guide/indexing.html#returning-a-view-versus-a-copy\n",
            "  df_prueba['bestseller'] = clf.predict(X_prueba)\n"
          ]
        }
      ],
      "source": [
        "# Datos a predecir \n",
        "X_prueba = df_prueba[df_prueba.columns.drop('bestseller')]\n",
        "\n",
        "# Entrenamos el modelo con todos los datos\n",
        "clf.fit(X, y)\n",
        "\n",
        "# Predecimos\n",
        "df_prueba['bestseller'] = clf.predict(X_prueba)\n",
        "\n",
        "# Grabamos\n",
        "df_prueba['bestseller'].to_csv('datasets/solucion.csv')"
      ]
    }
  ],
  "metadata": {
    "colab": {
      "collapsed_sections": [],
      "include_colab_link": true,
      "name": "Modelo udemy.ipynb",
      "provenance": []
    },
    "kernelspec": {
      "display_name": "Python 3",
      "name": "python3"
    },
    "language_info": {
      "codemirror_mode": {
        "name": "ipython",
        "version": 3
      },
      "file_extension": ".py",
      "mimetype": "text/x-python",
      "name": "python",
      "nbconvert_exporter": "python",
      "pygments_lexer": "ipython3",
      "version": "3.8.10"
    }
  },
  "nbformat": 4,
  "nbformat_minor": 0
}
